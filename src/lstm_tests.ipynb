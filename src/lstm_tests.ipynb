{
 "cells": [
  {
   "cell_type": "code",
   "execution_count": 2,
   "metadata": {},
   "outputs": [],
   "source": [
    "from collections import deque\n",
    "from datetime import datetime\n",
    "import numpy as np\n",
    "import os, json, pickle,  gzip\n",
    "# My packages and modules:\n",
    "import utils\n",
    "import argparse\n",
    "import time \n",
    "import numpy as np\n",
    "import matplotlib.pyplot as plt\n",
    "\n",
    "\n",
    "import tensorflow as tf\n",
    "import my_neural_network as mnn\n",
    "from agent import Agent\n",
    "import gym\n",
    "from train_agent import *"
   ]
  },
  {
   "cell_type": "code",
   "execution_count": null,
   "metadata": {},
   "outputs": [],
   "source": [
    "data_path = '../data/'\n",
    "\n",
    "\n",
    "X, y = read_data(data_path)\n",
    "X_pp, y_pp = preprocess_data(X, y, hist_len=utils.history_length, shuffle=False)\n",
    "\n",
    "# Plot action histogram. JUST FOR DEBUGGING.\n",
    "plot_action_histogram(y_pp, 'Action distribution BEFORE balancing')   \n",
    "# Balance samples. Gets hide of 50% of the most common action (accelerate)\n",
    "X_pp, y_pp = utils.balance_actions(X_pp, y_pp, 0.5)\n",
    "# Plot action histogram. JUST FOR DEBUGGING.\n",
    "plot_action_histogram(y_pp, 'Action distribution AFTER balancing')   \n",
    "# Plot some random states before and after preprocessing. JUST FOR DEBUGGING. \n",
    "# Requires to run the above fucntion with hist_len=1, shuffle=False.\n",
    "plot_states(X_pp, X)\n",
    "# Split data into training and validation:\n",
    "X_train, y_train, X_valid, y_valid = split_data(X_pp, y_pp, frac=.1)"
   ]
  }
 ],
 "metadata": {
  "kernelspec": {
   "display_name": "Python 3",
   "language": "python",
   "name": "python3"
  },
  "language_info": {
   "codemirror_mode": {
    "name": "ipython",
    "version": 3
   },
   "file_extension": ".py",
   "mimetype": "text/x-python",
   "name": "python",
   "nbconvert_exporter": "python",
   "pygments_lexer": "ipython3",
   "version": "3.6.9"
  }
 },
 "nbformat": 4,
 "nbformat_minor": 2
}
