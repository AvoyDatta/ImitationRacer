{
 "cells": [
  {
   "cell_type": "code",
   "execution_count": 4,
   "metadata": {},
   "outputs": [],
   "source": [
    "import sys\n",
    "import os\n",
    "path = os.getcwd()\n",
    "\n",
    "#sys.path.append((\"../data/user/*\"))"
   ]
  },
  {
   "cell_type": "code",
   "execution_count": 12,
   "metadata": {},
   "outputs": [
    {
     "name": "stdout",
     "output_type": "stream",
     "text": [
      "The autoreload extension is already loaded. To reload it, use:\n",
      "  %reload_ext autoreload\n"
     ]
    }
   ],
   "source": [
    "import gym\n",
    "\n",
    "import argparse\n",
    "import numpy as np\n",
    "import pickle\n",
    "import gzip\n",
    "import copy\n",
    "from utils import *\n",
    "import matplotlib.pyplot as plt\n",
    "%load_ext autoreload\n",
    "%autoreload 2\n",
    "# def read_one_gzip(filename):\n",
    "#     '''\n",
    "\n",
    "#     :param data_path: path to the gzip file\n",
    "#     :return: state, next_state, reward, action, terminal\n",
    "#     '''\n",
    "#     if not exists(filename):\n",
    "#         raise Exception(\"File {0} does not exist\".format(filename))\n",
    "\n",
    "#     file_handler = gzip.open(filename, 'rb')\n",
    "#     data = pickle.load(file_handler)\n",
    "#     state = data['state']\n",
    "#     next_state = data['next_state']\n",
    "#     reward = data['reward']\n",
    "#     action = data['action']\n",
    "#     terminal = data['terminal']\n",
    "\n",
    "#     return state, next_state, reward, action, terminal\n",
    "\n"
   ]
  },
  {
   "cell_type": "code",
   "execution_count": 32,
   "metadata": {},
   "outputs": [
    {
     "name": "stdout",
     "output_type": "stream",
     "text": [
      "10 11 12\n"
     ]
    }
   ],
   "source": [
    "s1, _, _, _, _ = read_one_gzip(\"../data/user/data_20200222-152704.pkl.gzip\")\n",
    "s2, _, _, _, _ = read_one_gzip(\"../data/user/data_20200222-152935.pkl.gzip\")\n",
    "s3, _, _, _, _ = read_one_gzip(\"../data/user/data_20200222-153217.pkl.gzip\")\n",
    "\n",
    "print(len(s1), len(s2), len(s3))\n"
   ]
  },
  {
   "cell_type": "code",
   "execution_count": 29,
   "metadata": {},
   "outputs": [
    {
     "data": {
      "text/plain": [
       "False"
      ]
     },
     "execution_count": 29,
     "metadata": {},
     "output_type": "execute_result"
    }
   ],
   "source": [
    "#print(len(s1[-]), len(s2[0]), len(s3[0]))\n",
    "np.allclose(s3[0][1],s2[0][0])"
   ]
  },
  {
   "cell_type": "code",
   "execution_count": null,
   "metadata": {},
   "outputs": [],
   "source": []
  }
 ],
 "metadata": {
  "kernelspec": {
   "display_name": "Python 3",
   "language": "python",
   "name": "python3"
  },
  "language_info": {
   "codemirror_mode": {
    "name": "ipython",
    "version": 3
   },
   "file_extension": ".py",
   "mimetype": "text/x-python",
   "name": "python",
   "nbconvert_exporter": "python",
   "pygments_lexer": "ipython3",
   "version": "3.6.9"
  }
 },
 "nbformat": 4,
 "nbformat_minor": 2
}
