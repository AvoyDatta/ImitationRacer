{
 "cells": [
  {
   "cell_type": "code",
   "execution_count": 24,
   "metadata": {},
   "outputs": [],
   "source": [
    "import numpy as np\n",
    "import matplotlib.pyplot as plt\n",
    "import seaborn as sns; sns.set()\n",
    "import os\n",
    "import glob\n",
    "import utils\n",
    "import json"
   ]
  },
  {
   "cell_type": "code",
   "execution_count": 35,
   "metadata": {},
   "outputs": [
    {
     "name": "stdout",
     "output_type": "stream",
     "text": [
      "[['../results/avoy/lstm_0.0.0/test_20200322-011702\\\\results_bc_agent-20200322-134529.json', '../results/avoy/lstm_0.0.0/test_20200322-011702\\\\results_bc_agent-20200322-143559.json', '../results/avoy/lstm_0.0.0/test_20200322-011702\\\\results_bc_agent-20200322-152601.json', '../results/avoy/lstm_0.0.0/test_20200322-011702\\\\results_bc_agent-20200322-161451.json', '../results/avoy/lstm_0.0.0/test_20200322-011702\\\\results_bc_agent-20200322-170414.json', '../results/avoy/lstm_0.0.0/test_20200322-011702\\\\results_bc_agent-20200322-200534.json']]\n"
     ]
    }
   ],
   "source": [
    "result_dirs = [\"../results/avoy/lstm_0.0.0/test_20200322-011702/*.json\"]\n",
    "result_paths = [sorted(list(glob.glob(agent_dir))) for agent_dir in result_dirs]\n",
    "\n",
    "val_accs = [[.26, .55, .627, .669, .688, .709]] #MUST BE TEMPORALLY ORDERED\n",
    "\n",
    "expert_paths = [\"../data/output/avoy/results_manually_composite.json\"]\n",
    "print(result_paths)"
   ]
  },
  {
   "cell_type": "code",
   "execution_count": 23,
   "metadata": {},
   "outputs": [
    {
     "name": "stdout",
     "output_type": "stream",
     "text": [
      "1 6\n"
     ]
    }
   ],
   "source": [
    "print(len(result_paths), len(result_paths[0]))"
   ]
  },
  {
   "cell_type": "code",
   "execution_count": 36,
   "metadata": {},
   "outputs": [
    {
     "name": "stdout",
     "output_type": "stream",
     "text": [
      "../results/avoy/lstm_0.0.0/test_20200322-011702\\results_bc_agent-20200322-134529.json\n",
      "dict_keys(['episode_rewards', 'mean', 'std'])\n",
      "dict_keys(['episode_rewards', 'mean', 'std'])\n",
      "dict_keys(['number_episodes', 'episode_rewards', 'mean_all_episodes', 'std_all_episodes'])\n",
      "../results/avoy/lstm_0.0.0/test_20200322-011702\\results_bc_agent-20200322-143559.json\n",
      "dict_keys(['episode_rewards', 'mean', 'std'])\n",
      "dict_keys(['episode_rewards', 'mean', 'std'])\n",
      "dict_keys(['number_episodes', 'episode_rewards', 'mean_all_episodes', 'std_all_episodes'])\n",
      "../results/avoy/lstm_0.0.0/test_20200322-011702\\results_bc_agent-20200322-152601.json\n",
      "dict_keys(['episode_rewards', 'mean', 'std'])\n",
      "dict_keys(['episode_rewards', 'mean', 'std'])\n",
      "dict_keys(['number_episodes', 'episode_rewards', 'mean_all_episodes', 'std_all_episodes'])\n",
      "../results/avoy/lstm_0.0.0/test_20200322-011702\\results_bc_agent-20200322-161451.json\n",
      "dict_keys(['episode_rewards', 'mean', 'std'])\n",
      "dict_keys(['episode_rewards', 'mean', 'std'])\n",
      "dict_keys(['number_episodes', 'episode_rewards', 'mean_all_episodes', 'std_all_episodes'])\n",
      "../results/avoy/lstm_0.0.0/test_20200322-011702\\results_bc_agent-20200322-170414.json\n",
      "dict_keys(['episode_rewards', 'mean', 'std'])\n",
      "dict_keys(['episode_rewards', 'mean', 'std'])\n",
      "dict_keys(['number_episodes', 'episode_rewards', 'mean_all_episodes', 'std_all_episodes'])\n",
      "../results/avoy/lstm_0.0.0/test_20200322-011702\\results_bc_agent-20200322-200534.json\n",
      "dict_keys(['episode_rewards', 'mean', 'std'])\n",
      "dict_keys(['episode_rewards', 'mean', 'std'])\n",
      "dict_keys(['number_episodes', 'episode_rewards', 'mean_all_episodes', 'std_all_episodes'])\n",
      "B {0.26: (-24.46062966326453, 18.37272264180538), 0.55: (429.308590818877, 182.67215294224124), 0.627: (627.1896057449574, 234.27613194359012), 0.669: (630.762304245477, 286.29771967858346), 0.688: (772.2674631812988, 201.77758405940543), 0.709: (738.2931622090674, 249.91262745328436)} {0.26: 0.0, 0.55: 0.23685323746880912, 0.627: 0.8342702181795635, 0.669: 0.8421781695485044, 0.688: 0.9196414644299776, 0.709: 0.9217421925225182}\n"
     ]
    }
   ],
   "source": [
    "experts = [\"B\"]\n",
    "rewards = []; corrs = []\n",
    "\n",
    "for exp, exp_name in enumerate(experts):\n",
    "    rewards_dict = {}\n",
    "    corrs_dict= {}\n",
    "    for path_idx, path in enumerate(result_paths[exp]):\n",
    "        print(path)\n",
    "        agent = utils.read_json(path)\n",
    "        agent_rewards = np.array(agent[\"episode_rewards\"])\n",
    "        rewards_dict[val_accs[exp][path_idx]] = (agent['mean'], agent['std'])\n",
    "\n",
    "        corrs_dict[val_accs[exp][path_idx]] = utils.compute_correlation(expert_paths[exp], path)\n",
    "        \n",
    "    print(exp_name, rewards_dict, corrs_dict)\n",
    "    \n",
    "    rewards.append(rewards_dict)\n",
    "    corrs.append(corrs_dict)"
   ]
  },
  {
   "cell_type": "code",
   "execution_count": null,
   "metadata": {},
   "outputs": [],
   "source": []
  }
 ],
 "metadata": {
  "kernelspec": {
   "display_name": "Python 3",
   "language": "python",
   "name": "python3"
  },
  "language_info": {
   "codemirror_mode": {
    "name": "ipython",
    "version": 3
   },
   "file_extension": ".py",
   "mimetype": "text/x-python",
   "name": "python",
   "nbconvert_exporter": "python",
   "pygments_lexer": "ipython3",
   "version": "3.6.9"
  }
 },
 "nbformat": 4,
 "nbformat_minor": 2
}
